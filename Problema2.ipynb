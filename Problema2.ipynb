{
 "cells": [
  {
   "cell_type": "markdown",
   "metadata": {},
   "source": [
    "# Problema2\n",
    "\n",
    "\n",
    "Lea el archivo 'winemag-data-130k-v2.csv' y realice lo siguiente:\n",
    "\n",
    "- Explore el dataframe según lo visto en clase\n",
    "- Realice al menos  4 renombre de columna y 3 creación de nuevas columnas según criterio. Deberá crear las columnas que crea conveniente. \n",
    "    Ejemplo: Según el país etiquetelos según continente.\n",
    "\n",
    "- Genere 4 reportes por agrupamiento de datos. Deberá elegir que reportes realizar\n",
    "    - Ejemplo: Por contienente mostrar los vinos mejor puntuados\n",
    "    - Ejemplo2: Promedio de precio de vino y cantidad de reviews obtenidos según pais. Ordenado de mejor a peor \n",
    "\n",
    "\n",
    "- Al menos uno de estos datos agrupados deberán ser almacenados en excel o csv\n",
    "   \n",
    "   Puede revisar esta solución https://stackoverflow.com/questions/25789264/pandas-dataframegroupby-export-to-excel\n",
    "\n",
    "\n",
    "\n",
    "### Datos \n",
    "\n",
    "winemag-data-130k-v2.csv\n",
    "- https://github.com/gdelgador/ProgramacionPython202401/blob/main/Modulo5/src/winemag-data-130k-v2.csv\n",
    "\n",
    "País según continente:\n",
    "- https://gist.githubusercontent.com/kintero/7d1db891401f56256c79/raw/a61f6d0dda82c3f04d2e6e76c3870552ef6cf0c6/paises.csv\n",
    " \n",
    "\n",
    "\n",
    "\n",
    "\n"
   ]
  },
  {
   "cell_type": "code",
   "execution_count": null,
   "metadata": {},
   "outputs": [],
   "source": [
    "import pandas as pd\n",
    "\n",
    "# Cargar el archivo 'winemag-data-130k-v2.csv'\n",
    "df = pd.read_csv('winemag-data-130k-v2.csv', index_col=0)\n",
    "\n",
    "# Explorar el DataFrame\n",
    "# Muestra las primeras filas\n",
    "print(\"Primeras filas del DataFrame:\")\n",
    "print(df.head())\n",
    "\n",
    "# Información general del DataFrame\n",
    "print(\"\\nInformación general del DataFrame:\")\n",
    "print(df.info())\n",
    "\n",
    "# Estadísticas descriptivas\n",
    "print(\"\\nEstadísticas descriptivas del DataFrame:\")\n",
    "print(df.describe())\n",
    "\n",
    "# Renombrar columnas\n",
    "df.rename(columns={'points': 'puntuacion', 'price': 'precio', 'country': 'pais', 'variety': 'variedad'}, inplace=True)\n",
    "\n",
    "# Crear nuevas columnas\n",
    "# 1. Etiquetar países según continente\n",
    "continent_mapping = {'Argentina': 'América del Sur', 'Australia': 'Oceanía', 'Austria': 'Europa',\n",
    "                     'Canada': 'Norteamérica', 'Chile': 'América del Sur', 'France': 'Europa',\n",
    "                     'Germany': 'Europa', 'Italy': 'Europa', 'New Zealand': 'Oceanía', 'Portugal': 'Europa',\n",
    "                     'South Africa': 'África', 'Spain': 'Europa', 'US': 'Norteamérica'}\n",
    "df['continente'] = df['pais'].map(continent_mapping)\n",
    "\n",
    "# 2. Calcular el precio por punto de puntuación\n",
    "df['precio_por_punto'] = df['precio'] / df['puntuacion']\n",
    "\n",
    "# 3. Crear una columna que indique si el vino es caro o barato (según un umbral)\n",
    "umbral_precio = 20\n",
    "df['categoria_precio'] = df['precio'].apply(lambda x: 'Caro' if x > umbral_precio else 'Barato')\n",
    "\n",
    "# Mostrar el DataFrame con los cambios realizados\n",
    "print(\"\\nDataFrame con renombrado y nuevas columnas:\")\n",
    "print(df.head())\n",
    "\n",
    "# Guardar el DataFrame modificado en un nuevo archivo CSV\n",
    "df.to_csv('winemag-data-modificado.csv', index=False)"
   ]
  },
  {
   "cell_type": "code",
   "execution_count": null,
   "metadata": {},
   "outputs": [],
   "source": [
    "# Reporte por Continente: Vinos Mejor Puntuados\n",
    "reporte_continente = df.groupby('continente')['puntuacion'].mean().sort_values(ascending=False)\n",
    "\n",
    "# Mostrar el reporte\n",
    "print(\"Reporte por Continente: Vinos Mejor Puntuados\")\n",
    "print(reporte_continente)\n",
    "\n",
    "# Guardar el reporte en un archivo Excel\n",
    "reporte_continente.to_excel('reporte_continente.xlsx')"
   ]
  },
  {
   "cell_type": "code",
   "execution_count": null,
   "metadata": {},
   "outputs": [],
   "source": [
    "# Reporte por País: Promedio de Precio y Cantidad de Reviews\n",
    "reporte_pais = df.groupby('pais').agg({'precio': 'mean', 'reviews': 'sum'}).sort_values(by='precio')\n",
    "\n",
    "# Mostrar el reporte\n",
    "print(\"Reporte por País: Promedio de Precio y Cantidad de Reviews\")\n",
    "print(reporte_pais)\n",
    "\n",
    "# Guardar el reporte en un archivo CSV\n",
    "reporte_pais.to_csv('reporte_pais.csv', index=False)\n"
   ]
  },
  {
   "cell_type": "code",
   "execution_count": null,
   "metadata": {},
   "outputs": [],
   "source": [
    "# Reporte por Variedad de Uva: Precio Mínimo, Máximo y Promedio\n",
    "reporte_variedad = df.groupby('variedad').agg({'precio': ['min', 'max', 'mean']})\n",
    "\n",
    "# Mostrar el reporte\n",
    "print(\"Reporte por Variedad de Uva: Precio Mínimo, Máximo y Promedio\")\n",
    "print(reporte_variedad)\n",
    "\n",
    "# Guardar el reporte en un archivo Excel\n",
    "reporte_variedad.to_excel('reporte_variedad.xlsx')"
   ]
  },
  {
   "cell_type": "code",
   "execution_count": null,
   "metadata": {},
   "outputs": [],
   "source": [
    "# Reporte por Categoría de Precio: Resumen de Puntuaciones\n",
    "reporte_categoria_precio = df.groupby('categoria_precio').agg({'puntuacion': ['count', 'mean']})\n",
    "\n",
    "# Mostrar el reporte\n",
    "print(\"Reporte por Categoría de Precio: Resumen de Puntuaciones\")\n",
    "print(reporte_categoria_precio)\n",
    "\n",
    "# Guardar el reporte en un archivo CSV\n",
    "reporte_categoria_precio.to_csv('reporte_categoria_precio.csv', index=False)"
   ]
  }
 ],
 "metadata": {
  "kernelspec": {
   "display_name": "Python 3",
   "language": "python",
   "name": "python3"
  },
  "language_info": {
   "codemirror_mode": {
    "name": "ipython",
    "version": 3
   },
   "file_extension": ".py",
   "mimetype": "text/x-python",
   "name": "python",
   "nbconvert_exporter": "python",
   "pygments_lexer": "ipython3",
   "version": "3.10.13"
  }
 },
 "nbformat": 4,
 "nbformat_minor": 2
}
